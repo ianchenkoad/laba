{
 "cells": [
  {
   "cell_type": "markdown",
   "id": "8e6dc960-f7b4-466d-9df3-a43373557072",
   "metadata": {},
   "source": [
    "## Плавление твердого тела\n",
    "\n",
    "\n"
   ]
  },
  {
   "cell_type": "markdown",
   "id": "f2a82846-3580-4c48-a3df-cb3120390cfa",
   "metadata": {},
   "source": [
    "#### подключим необходимые библиотеки"
   ]
  },
  {
   "cell_type": "code",
   "execution_count": 41,
   "id": "2dbed9fd-bce9-4ca4-9cd4-17d5dfba1641",
   "metadata": {},
   "outputs": [],
   "source": [
    "import pandas as pd\n",
    "import plotly.express as px\n",
    "import numpy as np\n",
    "import pickle"
   ]
  },
  {
   "cell_type": "markdown",
   "id": "d8cda1bb-f274-441b-80e1-a987b915d58d",
   "metadata": {
    "tags": []
   },
   "source": [
    "\n",
    "\n",
    "#### смоделируем наш объект в nglview"
   ]
  },
  {
   "cell_type": "code",
   "execution_count": 42,
   "id": "3852cc29-f2dc-403a-9f30-a13c7b1d56e8",
   "metadata": {},
   "outputs": [
    {
     "data": {
      "application/vnd.jupyter.widget-view+json": {
       "model_id": "96a93332b8534207a498e9335c59ae5e",
       "version_major": 2,
       "version_minor": 0
      },
      "text/plain": [
       "HBox(children=(NGLWidget(), VBox(children=(Dropdown(description='Show', options=('All', 'H'), value='All'), Dr…"
      ]
     },
     "metadata": {},
     "output_type": "display_data"
    }
   ],
   "source": [
    "\n",
    "from ase.io import read\n",
    "from ase.visualize import view\n",
    "data = read(\"info/dump.melt\")\n",
    "view(data, viewer=\"ngl\")"
   ]
  },
  {
   "cell_type": "markdown",
   "id": "0fb0d218-dd1e-4f92-a481-903792a1d9e4",
   "metadata": {},
   "source": [
    "#### Бинарный импорт/экспорт pickle"
   ]
  },
  {
   "cell_type": "code",
   "execution_count": 43,
   "id": "4e53e570-d515-45e0-98a1-6899b4a45ae1",
   "metadata": {},
   "outputs": [],
   "source": [
    "with open(\"dump.pickle\", \"wb\") as f:\n",
    "    pickle.dump(data, f) \n",
    "with open(\"dump.pickle\", \"rb\") as f:\n",
    "    data = pickle.load(f)"
   ]
  },
  {
   "cell_type": "markdown",
   "id": "4c0ecc57-191a-4559-9ba3-05433366650c",
   "metadata": {},
   "source": [
    "\n",
    "#### Имеются скрипты:\n"
   ]
  },
  {
   "cell_type": "markdown",
   "id": "f96f0a31-d478-4308-9393-bbba4fc0efe3",
   "metadata": {},
   "source": [
    "###### Отправки уведомлений в телграм - notific.sh\n"
   ]
  },
  {
   "cell_type": "code",
   "execution_count": 44,
   "id": "129dde37-382a-4058-835e-810e24d09dc3",
   "metadata": {},
   "outputs": [
    {
     "ename": "SyntaxError",
     "evalue": "invalid syntax (879543613.py, line 3)",
     "output_type": "error",
     "traceback": [
      "\u001b[0;36m  File \u001b[0;32m\"/tmp/ipykernel_1396276/879543613.py\"\u001b[0;36m, line \u001b[0;32m3\u001b[0m\n\u001b[0;31m    message=$(squeue)\u001b[0m\n\u001b[0m            ^\u001b[0m\n\u001b[0;31mSyntaxError\u001b[0m\u001b[0;31m:\u001b[0m invalid syntax\n"
     ]
    }
   ],
   "source": [
    "#!/bin/bash\n",
    "\n",
    "message=$(squeue)\n",
    "\n",
    "curl -s -X POST https://api.telegram.org/bot5175398532:AAF84yfKyTd-tLFNTwNwZ3NvAB9NJgADVNk/sendMessage -d chat_id=858102494 -d text=\"$message\"\n"
   ]
  },
  {
   "cell_type": "markdown",
   "id": "1d9b6de9-fc02-435e-b3e4-bdd7cbfc480f",
   "metadata": {},
   "source": [
    "###### Просмтотра squeue              - squeue.sh\n"
   ]
  },
  {
   "cell_type": "code",
   "execution_count": null,
   "id": "a3673175-a4ec-4d6e-8e78-23100a1e23a2",
   "metadata": {},
   "outputs": [],
   "source": [
    "#!/bin/bash\n",
    "text=$(squeue)\n",
    "echo $text\n"
   ]
  },
  {
   "cell_type": "markdown",
   "id": "f2a4bc32-ca7e-49c7-acdf-a39b77243741",
   "metadata": {},
   "source": [
    "###### запуска сессии в tmux          - tmux.sh\n"
   ]
  },
  {
   "cell_type": "code",
   "execution_count": null,
   "id": "c0530e18-c5c5-4e25-8cc3-2ff4af1672a6",
   "metadata": {
    "tags": []
   },
   "outputs": [],
   "source": [
    "#!/bin/bash\n",
    "\n",
    "session_name=\"sesh\"\n",
    "\n",
    "# 1. First you check if a tmux session exists with a given name.\n",
    "tmux has-session -t=$session_name 2> /dev/null\n",
    "\n",
    "# 2. Create the session if it doesn't exists.\n",
    "if [[ $? -ne 0 ]]; then\n",
    "  TMUX='' tmux new-session -d -s \"$session_name\"\n",
    "fi\n",
    "\n",
    "# 3. Attach if outside of tmux, switch if you're in tmux.\n",
    "if [[ -z \"$TMUX\" ]]; then\n",
    "  tmux attach -t \"$session_name\"\n",
    "else\n",
    "  tmux switch-client -t \"$session_name\"\n",
    "fi"
   ]
  },
  {
   "cell_type": "markdown",
   "id": "717e154a-956f-47f4-bdad-e6631b959134",
   "metadata": {
    "tags": []
   },
   "source": [
    "###### Проброса портов                - port_forwarding.sh"
   ]
  },
  {
   "cell_type": "code",
   "execution_count": null,
   "id": "0d2f9e9c-e4b2-4fe2-b2e5-597e7cd82a26",
   "metadata": {},
   "outputs": [],
   "source": [
    "#!/bin/bash\n",
    "ssh -NL localhost:6698:localhost:8815 -J miptstud studtscm19@node20-78"
   ]
  }
 ],
 "metadata": {
  "kernelspec": {
   "display_name": "Python 3 (ipykernel)",
   "language": "python",
   "name": "python3"
  },
  "language_info": {
   "codemirror_mode": {
    "name": "ipython",
    "version": 3
   },
   "file_extension": ".py",
   "mimetype": "text/x-python",
   "name": "python",
   "nbconvert_exporter": "python",
   "pygments_lexer": "ipython3",
   "version": "3.9.7"
  }
 },
 "nbformat": 4,
 "nbformat_minor": 5
}
